{
 "cells": [
  {
   "cell_type": "code",
   "execution_count": 79,
   "metadata": {},
   "outputs": [
    {
     "name": "stdout",
     "output_type": "stream",
     "text": [
      "Congrats!: Ozlem Ozgur\n",
      "Your note is maximum and your note: 100\n"
     ]
    }
   ],
   "source": [
    "grades= [['Midterm','Final','Homework'],\n",
    " [90, 80, 90],\n",
    " [99, 11, 15],\n",
    " [56, 67, 89],\n",
    " [79, 83, 45],\n",
    " [97, 101, 100]]\n",
    "\n",
    "names=[['Name','Surname'],\n",
    " ['Ozge', 'Maden'],\n",
    " ['Zeynep', 'Baskan'],\n",
    " ['Sena', 'Gokkaya'],\n",
    " ['Ali', 'Veli'],\n",
    " ['Ozlem', 'Ozgur']]\n",
    "\n",
    "def average(grades):\n",
    "    for m in grades[1:]:\n",
    "        t = m[1:]\n",
    "        l = len(t)\n",
    "        s = sum(t)\n",
    "        yield s//l\n",
    "\n",
    "avgNotes=list(average(grades))\n",
    "\n",
    "info = {\"Ozge Maden\": avgNotes[0],\n",
    "       \"Zeynep Baskan\": avgNotes[1],\n",
    "       \"Sena Gokkaya\": avgNotes[2],\n",
    "       \"Ali Veli\": avgNotes[3],\n",
    "       \"Ozlem Ozgur\": avgNotes[4]}\n",
    "\n",
    "max = 0\n",
    "\n",
    "for i in info.values():\n",
    "  if i > max:\n",
    "    max = i\n",
    "\n",
    "for e in info:\n",
    "  if info[e] == max:\n",
    "    print(\"Congrats!:\", e)\n",
    "    print(\"Your note is maximum and your note:\", max)"
   ]
  },
  {
   "cell_type": "code",
   "execution_count": null,
   "metadata": {},
   "outputs": [],
   "source": []
  }
 ],
 "metadata": {
  "kernelspec": {
   "display_name": "Python 3",
   "language": "python",
   "name": "python3"
  },
  "language_info": {
   "codemirror_mode": {
    "name": "ipython",
    "version": 3
   },
   "file_extension": ".py",
   "mimetype": "text/x-python",
   "name": "python",
   "nbconvert_exporter": "python",
   "pygments_lexer": "ipython3",
   "version": "3.7.6"
  }
 },
 "nbformat": 4,
 "nbformat_minor": 4
}
