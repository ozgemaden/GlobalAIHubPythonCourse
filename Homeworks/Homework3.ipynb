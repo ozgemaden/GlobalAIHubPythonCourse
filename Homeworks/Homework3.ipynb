{
 "cells": [
  {
   "cell_type": "code",
   "execution_count": null,
   "metadata": {},
   "outputs": [],
   "source": [
    "import random as rnd\n",
    "\n",
    "def isPrime(x):\n",
    "    for i in range(2, x):\n",
    "        if x % i == 0:\n",
    "            return False\n",
    "    return True\n",
    "\n",
    "def prime_first():\n",
    "    for j in range(0, 500):\n",
    "        if isPrime(j):\n",
    "            prime_first.append(j)\n",
    "    \n",
    "    print(prime_first())\n",
    "\n",
    "def prime_second():\n",
    "    for k in range(500, 1000):\n",
    "        if isPrime(k):\n",
    "            prime_second.append(k)\n",
    "    print(prime_second())\n",
    "    \n",
    "    \n",
    "x = rnd.randint()            \n",
    "print(x)"
   ]
  },
  {
   "cell_type": "code",
   "execution_count": null,
   "metadata": {},
   "outputs": [],
   "source": []
  }
 ],
 "metadata": {
  "kernelspec": {
   "display_name": "Python 3",
   "language": "python",
   "name": "python3"
  },
  "language_info": {
   "codemirror_mode": {
    "name": "ipython",
    "version": 3
   },
   "file_extension": ".py",
   "mimetype": "text/x-python",
   "name": "python",
   "nbconvert_exporter": "python",
   "pygments_lexer": "ipython3",
   "version": "3.7.6"
  }
 },
 "nbformat": 4,
 "nbformat_minor": 4
}
