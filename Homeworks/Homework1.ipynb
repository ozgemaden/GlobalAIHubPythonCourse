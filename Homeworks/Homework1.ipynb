{
 "cells": [
  {
   "cell_type": "code",
   "execution_count": 8,
   "metadata": {},
   "outputs": [
    {
     "name": "stdout",
     "output_type": "stream",
     "text": [
      "[[5, 3719, 9283], [8123, 1777, 4271], [4943, 6389, 8597]]\n"
     ]
    }
   ],
   "source": [
    "import random as rnd\n",
    "\n",
    "def isPrime(x):\n",
    "    for i in range(2, x):\n",
    "        if x % i == 0:\n",
    "            return False\n",
    "    return True\n",
    "\n",
    "prime = []\n",
    "\n",
    "for j in range(2, 10000):\n",
    "    if isPrime(j):\n",
    "        prime.append(j)\n",
    "\n",
    "n = len(prime)\n",
    "x = [[prime[rnd.randint(0, n-1)] for i in range(3)] for j in range(3)]\n",
    "print(x)"
   ]
  },
  {
   "cell_type": "code",
   "execution_count": null,
   "metadata": {},
   "outputs": [],
   "source": []
  }
 ],
 "metadata": {
  "kernelspec": {
   "display_name": "Python 3",
   "language": "python",
   "name": "python3"
  },
  "language_info": {
   "codemirror_mode": {
    "name": "ipython",
    "version": 3
   },
   "file_extension": ".py",
   "mimetype": "text/x-python",
   "name": "python",
   "nbconvert_exporter": "python",
   "pygments_lexer": "ipython3",
   "version": "3.7.6"
  }
 },
 "nbformat": 4,
 "nbformat_minor": 4
}
